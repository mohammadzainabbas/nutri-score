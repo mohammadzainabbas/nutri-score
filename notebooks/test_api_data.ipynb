{
 "cells": [
  {
   "cell_type": "code",
   "execution_count": 5,
   "metadata": {},
   "outputs": [
    {
     "name": "stdout",
     "output_type": "stream",
     "text": [
      "The autoreload extension is already loaded. To reload it, use:\n",
      "  %reload_ext autoreload\n"
     ]
    }
   ],
   "source": [
    "%load_ext autoreload\n",
    "%autoreload\n",
    "\n",
    "from os import getcwd\n",
    "from os.path import join, abspath, pardir, relpath, exists\n",
    "\n",
    "import requests\n",
    "\n",
    "from dataclasses import dataclass, field\n",
    "\n",
    "import dask.dataframe as dd\n",
    "import pandas as pd\n",
    "import numpy as np\n",
    "from numpy import matrixlib as npmat\n",
    "import networkx as nx\n",
    "from typing import Union\n",
    "import pulp as p\n",
    "from itertools import combinations\n",
    "from typing import List, Tuple\n",
    "from enum import Enum\n",
    "from scipy.stats import kendalltau, spearmanr\n",
    "\n",
    "from IPython.display import IFrame\n",
    "from IPython.core.interactiveshell import InteractiveShell\n",
    "InteractiveShell.ast_node_interactivity = \"all\""
   ]
  },
  {
   "cell_type": "code",
   "execution_count": 6,
   "metadata": {},
   "outputs": [
    {
     "data": {
      "text/plain": [
       "'/Users/mohammadzainabbas/Masters/CS/Decision-Modelling/nutri-score'"
      ]
     },
     "execution_count": 6,
     "metadata": {},
     "output_type": "execute_result"
    }
   ],
   "source": [
    "parent_dir = abspath(join(getcwd(), pardir))\n",
    "data_dir = join(parent_dir, 'data')\n",
    "data_file = join(data_dir, 'products.csv')\n",
    "parent_dir"
   ]
  },
  {
   "cell_type": "code",
   "execution_count": 4,
   "metadata": {},
   "outputs": [
    {
     "data": {
      "text/html": [
       "<div>\n",
       "<style scoped>\n",
       "    .dataframe tbody tr th:only-of-type {\n",
       "        vertical-align: middle;\n",
       "    }\n",
       "\n",
       "    .dataframe tbody tr th {\n",
       "        vertical-align: top;\n",
       "    }\n",
       "\n",
       "    .dataframe thead th {\n",
       "        text-align: right;\n",
       "    }\n",
       "</style>\n",
       "<table border=\"1\" class=\"dataframe\">\n",
       "  <thead>\n",
       "    <tr style=\"text-align: right;\">\n",
       "      <th></th>\n",
       "      <th>id</th>\n",
       "      <th>name</th>\n",
       "      <th>image_url</th>\n",
       "      <th>brand</th>\n",
       "      <th>categories</th>\n",
       "      <th>energy</th>\n",
       "      <th>energy_points</th>\n",
       "      <th>energy_value</th>\n",
       "      <th>fiber</th>\n",
       "      <th>fiber_points</th>\n",
       "      <th>...</th>\n",
       "      <th>omega-6-fat_serving</th>\n",
       "      <th>omega-6-fat_unit</th>\n",
       "      <th>omega-6-fat_value</th>\n",
       "      <th>omega-3-fat</th>\n",
       "      <th>omega-3-fat_100g</th>\n",
       "      <th>omega-3-fat_label</th>\n",
       "      <th>omega-3-fat_unit</th>\n",
       "      <th>omega-3-fat_value</th>\n",
       "      <th>omega-6-fat_label</th>\n",
       "      <th>potassium_label</th>\n",
       "    </tr>\n",
       "  </thead>\n",
       "  <tbody>\n",
       "    <tr>\n",
       "      <th>0</th>\n",
       "      <td>3613042717385</td>\n",
       "      <td>Crème de noisette</td>\n",
       "      <td>https://images.openfoodfacts.org/images/produc...</td>\n",
       "      <td>Phil Gourmet</td>\n",
       "      <td>Aliments et boissons à base de végétaux, Alime...</td>\n",
       "      <td>1368.0</td>\n",
       "      <td>4.0</td>\n",
       "      <td>327.0</td>\n",
       "      <td>0.0</td>\n",
       "      <td>0.0</td>\n",
       "      <td>...</td>\n",
       "      <td>NaN</td>\n",
       "      <td>NaN</td>\n",
       "      <td>NaN</td>\n",
       "      <td>NaN</td>\n",
       "      <td>NaN</td>\n",
       "      <td>NaN</td>\n",
       "      <td>NaN</td>\n",
       "      <td>NaN</td>\n",
       "      <td>NaN</td>\n",
       "      <td>NaN</td>\n",
       "    </tr>\n",
       "    <tr>\n",
       "      <th>1</th>\n",
       "      <td>8421251894903</td>\n",
       "      <td>Corazones de alcachofa</td>\n",
       "      <td>https://images.openfoodfacts.org/images/produc...</td>\n",
       "      <td>alcachofas</td>\n",
       "      <td>Alimentos y bebidas de origen vegetal, Aliment...</td>\n",
       "      <td>138.0</td>\n",
       "      <td>0.0</td>\n",
       "      <td>33.0</td>\n",
       "      <td>0.0</td>\n",
       "      <td>0.0</td>\n",
       "      <td>...</td>\n",
       "      <td>NaN</td>\n",
       "      <td>NaN</td>\n",
       "      <td>NaN</td>\n",
       "      <td>NaN</td>\n",
       "      <td>NaN</td>\n",
       "      <td>NaN</td>\n",
       "      <td>NaN</td>\n",
       "      <td>NaN</td>\n",
       "      <td>NaN</td>\n",
       "      <td>NaN</td>\n",
       "    </tr>\n",
       "    <tr>\n",
       "      <th>2</th>\n",
       "      <td>8410086940022</td>\n",
       "      <td>Espinacas</td>\n",
       "      <td>https://images.openfoodfacts.org/images/produc...</td>\n",
       "      <td>Auchan</td>\n",
       "      <td>Alimentos y bebidas de origen vegetal, Aliment...</td>\n",
       "      <td>63.0</td>\n",
       "      <td>0.0</td>\n",
       "      <td>15.0</td>\n",
       "      <td>0.0</td>\n",
       "      <td>0.0</td>\n",
       "      <td>...</td>\n",
       "      <td>NaN</td>\n",
       "      <td>NaN</td>\n",
       "      <td>NaN</td>\n",
       "      <td>NaN</td>\n",
       "      <td>NaN</td>\n",
       "      <td>NaN</td>\n",
       "      <td>NaN</td>\n",
       "      <td>NaN</td>\n",
       "      <td>NaN</td>\n",
       "      <td>NaN</td>\n",
       "    </tr>\n",
       "    <tr>\n",
       "      <th>3</th>\n",
       "      <td>8435307401458</td>\n",
       "      <td>Champiñones enteros</td>\n",
       "      <td>https://images.openfoodfacts.org/images/produc...</td>\n",
       "      <td>Auchan</td>\n",
       "      <td>Alimentos y bebidas de origen vegetal, Aliment...</td>\n",
       "      <td>92.0</td>\n",
       "      <td>0.0</td>\n",
       "      <td>22.0</td>\n",
       "      <td>0.0</td>\n",
       "      <td>0.0</td>\n",
       "      <td>...</td>\n",
       "      <td>NaN</td>\n",
       "      <td>NaN</td>\n",
       "      <td>NaN</td>\n",
       "      <td>NaN</td>\n",
       "      <td>NaN</td>\n",
       "      <td>NaN</td>\n",
       "      <td>NaN</td>\n",
       "      <td>NaN</td>\n",
       "      <td>NaN</td>\n",
       "      <td>NaN</td>\n",
       "    </tr>\n",
       "    <tr>\n",
       "      <th>4</th>\n",
       "      <td>3112940769613</td>\n",
       "      <td>Maiz dulce en grano</td>\n",
       "      <td>https://images.openfoodfacts.org/images/produc...</td>\n",
       "      <td>Auchan</td>\n",
       "      <td>Aliments et boissons à base de végétaux, Alime...</td>\n",
       "      <td>372.0</td>\n",
       "      <td>1.0</td>\n",
       "      <td>89.0</td>\n",
       "      <td>0.0</td>\n",
       "      <td>0.0</td>\n",
       "      <td>...</td>\n",
       "      <td>NaN</td>\n",
       "      <td>NaN</td>\n",
       "      <td>NaN</td>\n",
       "      <td>NaN</td>\n",
       "      <td>NaN</td>\n",
       "      <td>NaN</td>\n",
       "      <td>NaN</td>\n",
       "      <td>NaN</td>\n",
       "      <td>NaN</td>\n",
       "      <td>NaN</td>\n",
       "    </tr>\n",
       "  </tbody>\n",
       "</table>\n",
       "<p>5 rows × 433 columns</p>\n",
       "</div>"
      ],
      "text/plain": [
       "              id                    name  \\\n",
       "0  3613042717385       Crème de noisette   \n",
       "1  8421251894903  Corazones de alcachofa   \n",
       "2  8410086940022               Espinacas   \n",
       "3  8435307401458     Champiñones enteros   \n",
       "4  3112940769613     Maiz dulce en grano   \n",
       "\n",
       "                                           image_url         brand  \\\n",
       "0  https://images.openfoodfacts.org/images/produc...  Phil Gourmet   \n",
       "1  https://images.openfoodfacts.org/images/produc...    alcachofas   \n",
       "2  https://images.openfoodfacts.org/images/produc...        Auchan   \n",
       "3  https://images.openfoodfacts.org/images/produc...        Auchan   \n",
       "4  https://images.openfoodfacts.org/images/produc...        Auchan   \n",
       "\n",
       "                                          categories  energy  energy_points  \\\n",
       "0  Aliments et boissons à base de végétaux, Alime...  1368.0            4.0   \n",
       "1  Alimentos y bebidas de origen vegetal, Aliment...   138.0            0.0   \n",
       "2  Alimentos y bebidas de origen vegetal, Aliment...    63.0            0.0   \n",
       "3  Alimentos y bebidas de origen vegetal, Aliment...    92.0            0.0   \n",
       "4  Aliments et boissons à base de végétaux, Alime...   372.0            1.0   \n",
       "\n",
       "   energy_value  fiber  fiber_points  ...  omega-6-fat_serving  \\\n",
       "0         327.0    0.0           0.0  ...                  NaN   \n",
       "1          33.0    0.0           0.0  ...                  NaN   \n",
       "2          15.0    0.0           0.0  ...                  NaN   \n",
       "3          22.0    0.0           0.0  ...                  NaN   \n",
       "4          89.0    0.0           0.0  ...                  NaN   \n",
       "\n",
       "   omega-6-fat_unit  omega-6-fat_value  omega-3-fat omega-3-fat_100g  \\\n",
       "0               NaN                NaN          NaN              NaN   \n",
       "1               NaN                NaN          NaN              NaN   \n",
       "2               NaN                NaN          NaN              NaN   \n",
       "3               NaN                NaN          NaN              NaN   \n",
       "4               NaN                NaN          NaN              NaN   \n",
       "\n",
       "   omega-3-fat_label  omega-3-fat_unit  omega-3-fat_value  omega-6-fat_label  \\\n",
       "0                NaN               NaN                NaN                NaN   \n",
       "1                NaN               NaN                NaN                NaN   \n",
       "2                NaN               NaN                NaN                NaN   \n",
       "3                NaN               NaN                NaN                NaN   \n",
       "4                NaN               NaN                NaN                NaN   \n",
       "\n",
       "   potassium_label  \n",
       "0              NaN  \n",
       "1              NaN  \n",
       "2              NaN  \n",
       "3              NaN  \n",
       "4              NaN  \n",
       "\n",
       "[5 rows x 433 columns]"
      ]
     },
     "execution_count": 4,
     "metadata": {},
     "output_type": "execute_result"
    }
   ],
   "source": [
    "df = pd.read_csv(data_file)\n",
    "df.head()"
   ]
  },
  {
   "cell_type": "code",
   "execution_count": 9,
   "metadata": {},
   "outputs": [
    {
     "name": "stdout",
     "output_type": "stream",
     "text": [
      "--2022-11-14 11:05:54--  https://static.openfoodfacts.org/data/en.openfoodfacts.org.products.csv\n",
      "Resolving static.openfoodfacts.org (static.openfoodfacts.org)... 64:ff9b::d524:fdce, 213.36.253.206\n",
      "Connecting to static.openfoodfacts.org (static.openfoodfacts.org)|64:ff9b::d524:fdce|:443... connected.\n",
      "HTTP request sent, awaiting response... 200 OK\n",
      "Length: 7325177980 (6.8G) [text/csv]\n",
      "Saving to: ‘/Users/mohammadzainabbas/Masters/CS/Decision-Modelling/nutri-score/data/raw_products.csv’\n",
      "\n",
      "s/CS/Decision-Model   1%[                    ] 103.23M   404KB/s    eta 2h 52m ^C\n"
     ]
    }
   ],
   "source": [
    "!wget https://static.openfoodfacts.org/data/en.openfoodfacts.org.products.csv -O ~/Masters/CS/Decision-Modelling/nutri-score/data/raw_products.csv"
   ]
  },
  {
   "cell_type": "code",
   "execution_count": 11,
   "metadata": {},
   "outputs": [
    {
     "data": {
      "text/plain": [
       "<Response [200]>"
      ]
     },
     "execution_count": 11,
     "metadata": {},
     "output_type": "execute_result"
    }
   ],
   "source": [
    "res = requests.get(\"https://world.openfoodfacts.org/api/v0/product/737628064502.json\")\n",
    "res"
   ]
  },
  {
   "cell_type": "code",
   "execution_count": 15,
   "metadata": {},
   "outputs": [],
   "source": [
    "res = res.json()"
   ]
  },
  {
   "cell_type": "code",
   "execution_count": 50,
   "metadata": {},
   "outputs": [],
   "source": [
    "def get_mapping(data, key, value):\n",
    "    values = value.split(\".\")\n",
    "    is_all = \"all\" in values\n",
    "    _data = data\n",
    "    for val in values:\n",
    "        if is_all and val == \"all\": break\n",
    "        _data = _data[val]\n",
    "    return {key: _data} if not is_all else _data"
   ]
  },
  {
   "cell_type": "code",
   "execution_count": 53,
   "metadata": {},
   "outputs": [],
   "source": [
    "column_mapping = {\n",
    "    \"id\": \"product.id\",\n",
    "    \"name\": \"product.generic_name_en\",\n",
    "    \"extra_labels\": \"product.labels\",\n",
    "    \"image_url\": \"product.image_url\",\n",
    "    \"brand\": \"product.brand_owner\",\n",
    "    \"categories\": \"product.categories\",\n",
    "    \"nutriscore_grade\": \"product.nutriscore_grade\",\n",
    "    \"nutriscore_score\": \"product.nutriscore_score\",\n",
    "    \"nutriscore_data\": \"product.nutriscore_data.all\",\n",
    "    \"nutriments\": \"product.nutriments.all\",\n",
    "}"
   ]
  },
  {
   "cell_type": "code",
   "execution_count": 54,
   "metadata": {},
   "outputs": [
    {
     "data": {
      "text/plain": [
       "{'id': '737628064502',\n",
       " 'name': 'Rice Noodles',\n",
       " 'extra_labels': 'No gluten',\n",
       " 'image_url': 'https://images.openfoodfacts.org/images/products/073/762/806/4502/front_en.6.400.jpg',\n",
       " 'brand': 'Simply Asia Foods, Inc.',\n",
       " 'categories': 'Plant-based foods and beverages, Plant-based foods, Cereals and potatoes, Cereals and their products, Noodles, Rice Noodles',\n",
       " 'nutriscore_grade': 'c',\n",
       " 'nutriscore_score': 4,\n",
       " 'energy': 1611,\n",
       " 'energy_points': 4,\n",
       " 'energy_value': 385,\n",
       " 'fiber': 1.9,\n",
       " 'fiber_points': 1,\n",
       " 'fiber_value': 1.9,\n",
       " 'fruits_vegetables_nuts_colza_walnut_olive_oils': 0,\n",
       " 'fruits_vegetables_nuts_colza_walnut_olive_oils_points': 0,\n",
       " 'fruits_vegetables_nuts_colza_walnut_olive_oils_value': 0,\n",
       " 'grade': 'c',\n",
       " 'is_beverage': 0,\n",
       " 'is_cheese': 0,\n",
       " 'is_fat': 0,\n",
       " 'is_water': 0,\n",
       " 'negative_points': 10,\n",
       " 'positive_points': 6,\n",
       " 'proteins': 9.62,\n",
       " 'proteins_points': 5,\n",
       " 'proteins_value': 9.62,\n",
       " 'saturated_fat': 1.92,\n",
       " 'saturated_fat_points': 1,\n",
       " 'saturated_fat_ratio': 24.9674902470741,\n",
       " 'saturated_fat_ratio_points': 3,\n",
       " 'saturated_fat_ratio_value': 25,\n",
       " 'saturated_fat_value': 1.9,\n",
       " 'score': 4,\n",
       " 'sodium': 0.288,\n",
       " 'sodium_points': 3,\n",
       " 'sodium_value': 288,\n",
       " 'sugars': 13.46,\n",
       " 'sugars_points': 2,\n",
       " 'sugars_value': 13.46,\n",
       " 'calcium': 0.038,\n",
       " 'calcium_100g': 0.038,\n",
       " 'calcium_serving': 0.0198,\n",
       " 'calcium_unit': 'mg',\n",
       " 'calcium_value': 38,\n",
       " 'carbohydrates': 71.15,\n",
       " 'carbohydrates_100g': 71.15,\n",
       " 'carbohydrates_serving': 37,\n",
       " 'carbohydrates_unit': 'g',\n",
       " 'carbohydrates_value': 71.15,\n",
       " 'cholesterol': 0,\n",
       " 'cholesterol_100g': 0,\n",
       " 'cholesterol_serving': 0,\n",
       " 'cholesterol_unit': 'mg',\n",
       " 'cholesterol_value': 0,\n",
       " 'energy-kcal': 385,\n",
       " 'energy-kcal_100g': 385,\n",
       " 'energy-kcal_serving': 200,\n",
       " 'energy-kcal_unit': 'kcal',\n",
       " 'energy-kcal_value': 385,\n",
       " 'energy_100g': 1611,\n",
       " 'energy_serving': 838,\n",
       " 'energy_unit': 'kcal',\n",
       " 'fat': 7.69,\n",
       " 'fat_100g': 7.69,\n",
       " 'fat_serving': 4,\n",
       " 'fat_unit': 'g',\n",
       " 'fat_value': 7.69,\n",
       " 'fiber_100g': 1.9,\n",
       " 'fiber_serving': 0.988,\n",
       " 'fiber_unit': 'g',\n",
       " 'fruits-vegetables-nuts-estimate-from-ingredients_100g': 0,\n",
       " 'fruits-vegetables-nuts-estimate-from-ingredients_serving': 0,\n",
       " 'iron': 0.00069,\n",
       " 'iron_100g': 0.00069,\n",
       " 'iron_serving': 0.000359,\n",
       " 'iron_unit': 'mg',\n",
       " 'iron_value': 0.69,\n",
       " 'nova-group': 4,\n",
       " 'nova-group_100g': 4,\n",
       " 'nova-group_serving': 4,\n",
       " 'nutrition-score-fr': 4,\n",
       " 'nutrition-score-fr_100g': 4,\n",
       " 'proteins_100g': 9.62,\n",
       " 'proteins_serving': 5,\n",
       " 'proteins_unit': 'g',\n",
       " 'salt': 0.72,\n",
       " 'salt_100g': 0.72,\n",
       " 'salt_serving': 0.374,\n",
       " 'salt_unit': 'mg',\n",
       " 'salt_value': 720,\n",
       " 'saturated-fat': 1.92,\n",
       " 'saturated-fat_100g': 1.92,\n",
       " 'saturated-fat_serving': 0.998,\n",
       " 'saturated-fat_unit': 'g',\n",
       " 'saturated-fat_value': 1.92,\n",
       " 'sodium_100g': 0.288,\n",
       " 'sodium_serving': 0.15,\n",
       " 'sodium_unit': 'mg',\n",
       " 'sugars_100g': 13.46,\n",
       " 'sugars_serving': 7,\n",
       " 'sugars_unit': 'g',\n",
       " 'trans-fat': 0,\n",
       " 'trans-fat_100g': 0,\n",
       " 'trans-fat_serving': 0,\n",
       " 'trans-fat_unit': 'g',\n",
       " 'trans-fat_value': 0,\n",
       " 'vitamin-a': 0.0001155,\n",
       " 'vitamin-a_100g': 0.0001155,\n",
       " 'vitamin-a_serving': 6.01e-05,\n",
       " 'vitamin-a_unit': 'IU',\n",
       " 'vitamin-a_value': 385,\n",
       " 'vitamin-c': 0,\n",
       " 'vitamin-c_100g': 0,\n",
       " 'vitamin-c_serving': 0,\n",
       " 'vitamin-c_unit': 'mg',\n",
       " 'vitamin-c_value': 0}"
      ]
     },
     "execution_count": 54,
     "metadata": {},
     "output_type": "execute_result"
    }
   ],
   "source": [
    "data = dict()\n",
    "for key in column_mapping.keys():\n",
    "    data.update(get_mapping(res, key, column_mapping[key]))\n",
    "data"
   ]
  },
  {
   "cell_type": "code",
   "execution_count": 20,
   "metadata": {},
   "outputs": [
    {
     "data": {
      "text/plain": [
       "'Simply Asia Foods, Inc.'"
      ]
     },
     "execution_count": 20,
     "metadata": {},
     "output_type": "execute_result"
    }
   ],
   "source": [
    "res[\"product\"][\"brand_owner\"]"
   ]
  },
  {
   "cell_type": "markdown",
   "metadata": {},
   "source": [
    "#### From static data"
   ]
  },
  {
   "cell_type": "code",
   "execution_count": 5,
   "metadata": {},
   "outputs": [
    {
     "ename": "ParserError",
     "evalue": "Error tokenizing data. C error: Expected 37 fields in line 3, saw 52\n",
     "output_type": "error",
     "traceback": [
      "\u001b[0;31m---------------------------------------------------------------------------\u001b[0m",
      "\u001b[0;31mParserError\u001b[0m                               Traceback (most recent call last)",
      "Cell \u001b[0;32mIn [5], line 4\u001b[0m\n\u001b[1;32m      1\u001b[0m \u001b[39m# df = pd.read_csv(join(data_dir, \"raw_products.csv\"), chunksize=10 ** 4)\u001b[39;00m\n\u001b[1;32m      2\u001b[0m \u001b[39m# df.head()\u001b[39;00m\n\u001b[0;32m----> 4\u001b[0m d \u001b[39m=\u001b[39m pd\u001b[39m.\u001b[39;49mread_csv(join(data_dir, \u001b[39m\"\u001b[39;49m\u001b[39mraw_products.csv\u001b[39;49m\u001b[39m\"\u001b[39;49m), nrows\u001b[39m=\u001b[39;49m\u001b[39m10\u001b[39;49m \u001b[39m*\u001b[39;49m\u001b[39m*\u001b[39;49m \u001b[39m3\u001b[39;49m)\n",
      "File \u001b[0;32m/opt/homebrew/Caskroom/mambaforge/base/envs/nutri-score/lib/python3.11/site-packages/pandas/util/_decorators.py:211\u001b[0m, in \u001b[0;36mdeprecate_kwarg.<locals>._deprecate_kwarg.<locals>.wrapper\u001b[0;34m(*args, **kwargs)\u001b[0m\n\u001b[1;32m    209\u001b[0m     \u001b[39melse\u001b[39;00m:\n\u001b[1;32m    210\u001b[0m         kwargs[new_arg_name] \u001b[39m=\u001b[39m new_arg_value\n\u001b[0;32m--> 211\u001b[0m \u001b[39mreturn\u001b[39;00m func(\u001b[39m*\u001b[39;49margs, \u001b[39m*\u001b[39;49m\u001b[39m*\u001b[39;49mkwargs)\n",
      "File \u001b[0;32m/opt/homebrew/Caskroom/mambaforge/base/envs/nutri-score/lib/python3.11/site-packages/pandas/util/_decorators.py:331\u001b[0m, in \u001b[0;36mdeprecate_nonkeyword_arguments.<locals>.decorate.<locals>.wrapper\u001b[0;34m(*args, **kwargs)\u001b[0m\n\u001b[1;32m    325\u001b[0m \u001b[39mif\u001b[39;00m \u001b[39mlen\u001b[39m(args) \u001b[39m>\u001b[39m num_allow_args:\n\u001b[1;32m    326\u001b[0m     warnings\u001b[39m.\u001b[39mwarn(\n\u001b[1;32m    327\u001b[0m         msg\u001b[39m.\u001b[39mformat(arguments\u001b[39m=\u001b[39m_format_argument_list(allow_args)),\n\u001b[1;32m    328\u001b[0m         \u001b[39mFutureWarning\u001b[39;00m,\n\u001b[1;32m    329\u001b[0m         stacklevel\u001b[39m=\u001b[39mfind_stack_level(),\n\u001b[1;32m    330\u001b[0m     )\n\u001b[0;32m--> 331\u001b[0m \u001b[39mreturn\u001b[39;00m func(\u001b[39m*\u001b[39;49margs, \u001b[39m*\u001b[39;49m\u001b[39m*\u001b[39;49mkwargs)\n",
      "File \u001b[0;32m/opt/homebrew/Caskroom/mambaforge/base/envs/nutri-score/lib/python3.11/site-packages/pandas/io/parsers/readers.py:950\u001b[0m, in \u001b[0;36mread_csv\u001b[0;34m(filepath_or_buffer, sep, delimiter, header, names, index_col, usecols, squeeze, prefix, mangle_dupe_cols, dtype, engine, converters, true_values, false_values, skipinitialspace, skiprows, skipfooter, nrows, na_values, keep_default_na, na_filter, verbose, skip_blank_lines, parse_dates, infer_datetime_format, keep_date_col, date_parser, dayfirst, cache_dates, iterator, chunksize, compression, thousands, decimal, lineterminator, quotechar, quoting, doublequote, escapechar, comment, encoding, encoding_errors, dialect, error_bad_lines, warn_bad_lines, on_bad_lines, delim_whitespace, low_memory, memory_map, float_precision, storage_options)\u001b[0m\n\u001b[1;32m    935\u001b[0m kwds_defaults \u001b[39m=\u001b[39m _refine_defaults_read(\n\u001b[1;32m    936\u001b[0m     dialect,\n\u001b[1;32m    937\u001b[0m     delimiter,\n\u001b[0;32m   (...)\u001b[0m\n\u001b[1;32m    946\u001b[0m     defaults\u001b[39m=\u001b[39m{\u001b[39m\"\u001b[39m\u001b[39mdelimiter\u001b[39m\u001b[39m\"\u001b[39m: \u001b[39m\"\u001b[39m\u001b[39m,\u001b[39m\u001b[39m\"\u001b[39m},\n\u001b[1;32m    947\u001b[0m )\n\u001b[1;32m    948\u001b[0m kwds\u001b[39m.\u001b[39mupdate(kwds_defaults)\n\u001b[0;32m--> 950\u001b[0m \u001b[39mreturn\u001b[39;00m _read(filepath_or_buffer, kwds)\n",
      "File \u001b[0;32m/opt/homebrew/Caskroom/mambaforge/base/envs/nutri-score/lib/python3.11/site-packages/pandas/io/parsers/readers.py:611\u001b[0m, in \u001b[0;36m_read\u001b[0;34m(filepath_or_buffer, kwds)\u001b[0m\n\u001b[1;32m    608\u001b[0m     \u001b[39mreturn\u001b[39;00m parser\n\u001b[1;32m    610\u001b[0m \u001b[39mwith\u001b[39;00m parser:\n\u001b[0;32m--> 611\u001b[0m     \u001b[39mreturn\u001b[39;00m parser\u001b[39m.\u001b[39;49mread(nrows)\n",
      "File \u001b[0;32m/opt/homebrew/Caskroom/mambaforge/base/envs/nutri-score/lib/python3.11/site-packages/pandas/io/parsers/readers.py:1778\u001b[0m, in \u001b[0;36mTextFileReader.read\u001b[0;34m(self, nrows)\u001b[0m\n\u001b[1;32m   1771\u001b[0m nrows \u001b[39m=\u001b[39m validate_integer(\u001b[39m\"\u001b[39m\u001b[39mnrows\u001b[39m\u001b[39m\"\u001b[39m, nrows)\n\u001b[1;32m   1772\u001b[0m \u001b[39mtry\u001b[39;00m:\n\u001b[1;32m   1773\u001b[0m     \u001b[39m# error: \"ParserBase\" has no attribute \"read\"\u001b[39;00m\n\u001b[1;32m   1774\u001b[0m     (\n\u001b[1;32m   1775\u001b[0m         index,\n\u001b[1;32m   1776\u001b[0m         columns,\n\u001b[1;32m   1777\u001b[0m         col_dict,\n\u001b[0;32m-> 1778\u001b[0m     ) \u001b[39m=\u001b[39m \u001b[39mself\u001b[39;49m\u001b[39m.\u001b[39;49m_engine\u001b[39m.\u001b[39;49mread(  \u001b[39m# type: ignore[attr-defined]\u001b[39;49;00m\n\u001b[1;32m   1779\u001b[0m         nrows\n\u001b[1;32m   1780\u001b[0m     )\n\u001b[1;32m   1781\u001b[0m \u001b[39mexcept\u001b[39;00m \u001b[39mException\u001b[39;00m:\n\u001b[1;32m   1782\u001b[0m     \u001b[39mself\u001b[39m\u001b[39m.\u001b[39mclose()\n",
      "File \u001b[0;32m/opt/homebrew/Caskroom/mambaforge/base/envs/nutri-score/lib/python3.11/site-packages/pandas/io/parsers/c_parser_wrapper.py:230\u001b[0m, in \u001b[0;36mCParserWrapper.read\u001b[0;34m(self, nrows)\u001b[0m\n\u001b[1;32m    228\u001b[0m \u001b[39mtry\u001b[39;00m:\n\u001b[1;32m    229\u001b[0m     \u001b[39mif\u001b[39;00m \u001b[39mself\u001b[39m\u001b[39m.\u001b[39mlow_memory:\n\u001b[0;32m--> 230\u001b[0m         chunks \u001b[39m=\u001b[39m \u001b[39mself\u001b[39;49m\u001b[39m.\u001b[39;49m_reader\u001b[39m.\u001b[39;49mread_low_memory(nrows)\n\u001b[1;32m    231\u001b[0m         \u001b[39m# destructive to chunks\u001b[39;00m\n\u001b[1;32m    232\u001b[0m         data \u001b[39m=\u001b[39m _concatenate_chunks(chunks)\n",
      "File \u001b[0;32m/opt/homebrew/Caskroom/mambaforge/base/envs/nutri-score/lib/python3.11/site-packages/pandas/_libs/parsers.pyx:820\u001b[0m, in \u001b[0;36mpandas._libs.parsers.TextReader.read_low_memory\u001b[0;34m()\u001b[0m\n",
      "File \u001b[0;32m/opt/homebrew/Caskroom/mambaforge/base/envs/nutri-score/lib/python3.11/site-packages/pandas/_libs/parsers.pyx:866\u001b[0m, in \u001b[0;36mpandas._libs.parsers.TextReader._read_rows\u001b[0;34m()\u001b[0m\n",
      "File \u001b[0;32m/opt/homebrew/Caskroom/mambaforge/base/envs/nutri-score/lib/python3.11/site-packages/pandas/_libs/parsers.pyx:852\u001b[0m, in \u001b[0;36mpandas._libs.parsers.TextReader._tokenize_rows\u001b[0;34m()\u001b[0m\n",
      "File \u001b[0;32m/opt/homebrew/Caskroom/mambaforge/base/envs/nutri-score/lib/python3.11/site-packages/pandas/_libs/parsers.pyx:1973\u001b[0m, in \u001b[0;36mpandas._libs.parsers.raise_parser_error\u001b[0;34m()\u001b[0m\n",
      "\u001b[0;31mParserError\u001b[0m: Error tokenizing data. C error: Expected 37 fields in line 3, saw 52\n"
     ]
    }
   ],
   "source": [
    "# df = pd.read_csv(join(data_dir, \"raw_products.csv\"), chunksize=10 ** 4)\n",
    "# df.head()\n",
    "\n",
    "d = pd.read_csv(join(data_dir, \"raw_products.csv\"), nrows=10 ** 3)"
   ]
  },
  {
   "cell_type": "code",
   "execution_count": 2,
   "metadata": {},
   "outputs": [
    {
     "ename": "NameError",
     "evalue": "name 'd' is not defined",
     "output_type": "error",
     "traceback": [
      "\u001b[0;31m---------------------------------------------------------------------------\u001b[0m",
      "\u001b[0;31mNameError\u001b[0m                                 Traceback (most recent call last)",
      "Cell \u001b[0;32mIn [2], line 1\u001b[0m\n\u001b[0;32m----> 1\u001b[0m \u001b[39mtype\u001b[39m(d)\n",
      "\u001b[0;31mNameError\u001b[0m: name 'd' is not defined"
     ]
    }
   ],
   "source": [
    "type(d)"
   ]
  },
  {
   "cell_type": "code",
   "execution_count": null,
   "metadata": {},
   "outputs": [],
   "source": []
  }
 ],
 "metadata": {
  "kernelspec": {
   "display_name": "Python 3.11.0 ('nutri-score')",
   "language": "python",
   "name": "python3"
  },
  "language_info": {
   "codemirror_mode": {
    "name": "ipython",
    "version": 3
   },
   "file_extension": ".py",
   "mimetype": "text/x-python",
   "name": "python",
   "nbconvert_exporter": "python",
   "pygments_lexer": "ipython3",
   "version": "3.10.8"
  },
  "orig_nbformat": 4,
  "vscode": {
   "interpreter": {
    "hash": "dc774fcdc68854c09e6012d596ed0a7a11de895d7f3322ca16ca697f95a9a8b0"
   }
  }
 },
 "nbformat": 4,
 "nbformat_minor": 2
}
