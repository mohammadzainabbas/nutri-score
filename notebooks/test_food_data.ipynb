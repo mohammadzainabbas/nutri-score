{
 "cells": [
  {
   "cell_type": "code",
   "execution_count": 1,
   "metadata": {},
   "outputs": [],
   "source": [
    "%load_ext autoreload\n",
    "%autoreload\n",
    "\n",
    "from os import getcwd\n",
    "from os.path import join, abspath, pardir, relpath, exists\n",
    "\n",
    "import requests\n",
    "\n",
    "from dataclasses import dataclass, field\n",
    "\n",
    "import pandas as pd\n",
    "import numpy as np\n",
    "from numpy import matrixlib as npmat\n",
    "import networkx as nx\n",
    "from typing import Union\n",
    "import pulp as p\n",
    "from itertools import combinations\n",
    "from typing import List, Tuple\n",
    "from enum import Enum\n",
    "from scipy.stats import kendalltau, spearmanr\n",
    "\n",
    "from IPython.display import IFrame\n",
    "from IPython.core.interactiveshell import InteractiveShell\n",
    "InteractiveShell.ast_node_interactivity = \"all\""
   ]
  },
  {
   "cell_type": "code",
   "execution_count": 3,
   "metadata": {},
   "outputs": [
    {
     "data": {
      "text/plain": [
       "'/Users/mohammadzainabbas/Masters/CS/Decision-Modelling/nutri-score'"
      ]
     },
     "execution_count": 3,
     "metadata": {},
     "output_type": "execute_result"
    }
   ],
   "source": [
    "parent_dir = abspath(join(getcwd(), pardir))\n",
    "data_dir = join(parent_dir, 'data')\n",
    "output_file = join(data_dir, \"nutri_food_data.csv\")\n",
    "parent_dir"
   ]
  },
  {
   "cell_type": "code",
   "execution_count": 9,
   "metadata": {},
   "outputs": [
    {
     "name": "stdout",
     "output_type": "stream",
     "text": [
      "--2022-11-14 11:05:54--  https://static.openfoodfacts.org/data/en.openfoodfacts.org.products.csv\n",
      "Resolving static.openfoodfacts.org (static.openfoodfacts.org)... 64:ff9b::d524:fdce, 213.36.253.206\n",
      "Connecting to static.openfoodfacts.org (static.openfoodfacts.org)|64:ff9b::d524:fdce|:443... connected.\n",
      "HTTP request sent, awaiting response... 200 OK\n",
      "Length: 7325177980 (6.8G) [text/csv]\n",
      "Saving to: ‘/Users/mohammadzainabbas/Masters/CS/Decision-Modelling/nutri-score/data/raw_products.csv’\n",
      "\n",
      "s/CS/Decision-Model   1%[                    ] 103.23M   404KB/s    eta 2h 52m ^C\n"
     ]
    }
   ],
   "source": [
    "!wget https://static.openfoodfacts.org/data/en.openfoodfacts.org.products.csv -O ~/Masters/CS/Decision-Modelling/nutri-score/data/raw_products.csv"
   ]
  },
  {
   "cell_type": "code",
   "execution_count": 11,
   "metadata": {},
   "outputs": [
    {
     "data": {
      "text/plain": [
       "<Response [200]>"
      ]
     },
     "execution_count": 11,
     "metadata": {},
     "output_type": "execute_result"
    }
   ],
   "source": [
    "res = requests.get(\"https://world.openfoodfacts.org/api/v0/product/737628064502.json\")\n",
    "res"
   ]
  },
  {
   "cell_type": "code",
   "execution_count": 15,
   "metadata": {},
   "outputs": [],
   "source": [
    "res = res.json()"
   ]
  },
  {
   "cell_type": "code",
   "execution_count": 23,
   "metadata": {},
   "outputs": [],
   "source": [
    "column_mapping = {\n",
    "    \"brand\": \"product.brand_owner\",\n",
    "\n",
    "}"
   ]
  },
  {
   "cell_type": "code",
   "execution_count": 24,
   "metadata": {},
   "outputs": [],
   "source": [
    "def get_mapping(data, value):\n",
    "    values = value.split(\".\")\n",
    "    _data = None\n",
    "    for val in values:\n",
    "        _data = _data[val]\n",
    "    return _data"
   ]
  },
  {
   "cell_type": "code",
   "execution_count": 25,
   "metadata": {},
   "outputs": [
    {
     "ename": "KeyError",
     "evalue": "'brand_owner'",
     "output_type": "error",
     "traceback": [
      "\u001b[0;31m---------------------------------------------------------------------------\u001b[0m",
      "\u001b[0;31mKeyError\u001b[0m                                  Traceback (most recent call last)",
      "Cell \u001b[0;32mIn [25], line 1\u001b[0m\n\u001b[0;32m----> 1\u001b[0m get_mapping(res, column_mapping[\u001b[39m'\u001b[39;49m\u001b[39mbrand\u001b[39;49m\u001b[39m'\u001b[39;49m])\n",
      "Cell \u001b[0;32mIn [24], line 5\u001b[0m, in \u001b[0;36mget_mapping\u001b[0;34m(data, value)\u001b[0m\n\u001b[1;32m      3\u001b[0m _data \u001b[39m=\u001b[39m \u001b[39mNone\u001b[39;00m\n\u001b[1;32m      4\u001b[0m \u001b[39mfor\u001b[39;00m val \u001b[39min\u001b[39;00m values:\n\u001b[0;32m----> 5\u001b[0m     _data \u001b[39m=\u001b[39m data[val]\n\u001b[1;32m      6\u001b[0m \u001b[39mreturn\u001b[39;00m _data\n",
      "\u001b[0;31mKeyError\u001b[0m: 'brand_owner'"
     ]
    }
   ],
   "source": [
    "get_mapping(res, column_mapping['brand'])"
   ]
  },
  {
   "cell_type": "code",
   "execution_count": 20,
   "metadata": {},
   "outputs": [
    {
     "data": {
      "text/plain": [
       "'Simply Asia Foods, Inc.'"
      ]
     },
     "execution_count": 20,
     "metadata": {},
     "output_type": "execute_result"
    }
   ],
   "source": [
    "res[\"product\"][\"brand_owner\"]"
   ]
  },
  {
   "cell_type": "code",
   "execution_count": null,
   "metadata": {},
   "outputs": [],
   "source": []
  }
 ],
 "metadata": {
  "kernelspec": {
   "display_name": "Python 3.11.0 ('nutri-score')",
   "language": "python",
   "name": "python3"
  },
  "language_info": {
   "codemirror_mode": {
    "name": "ipython",
    "version": 3
   },
   "file_extension": ".py",
   "mimetype": "text/x-python",
   "name": "python",
   "nbconvert_exporter": "python",
   "pygments_lexer": "ipython3",
   "version": "3.11.0"
  },
  "orig_nbformat": 4,
  "vscode": {
   "interpreter": {
    "hash": "dc774fcdc68854c09e6012d596ed0a7a11de895d7f3322ca16ca697f95a9a8b0"
   }
  }
 },
 "nbformat": 4,
 "nbformat_minor": 2
}
