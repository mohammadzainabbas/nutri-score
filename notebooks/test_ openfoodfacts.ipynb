{
 "cells": [
  {
   "cell_type": "code",
   "execution_count": 1,
   "metadata": {},
   "outputs": [],
   "source": [
    "%load_ext autoreload\n",
    "%autoreload\n",
    "\n",
    "from os import getcwd\n",
    "from os.path import join, abspath, pardir, relpath, exists\n",
    "from dataclasses import dataclass, field\n",
    "import pandas as pd\n",
    "import numpy as np\n",
    "import openfoodfacts\n",
    "import requests\n",
    "\n",
    "from IPython.display import IFrame\n",
    "from IPython.core.interactiveshell import InteractiveShell\n",
    "InteractiveShell.ast_node_interactivity = \"all\""
   ]
  },
  {
   "cell_type": "markdown",
   "metadata": {},
   "source": [
    "Check the doc link: https://openfoodfacts.github.io/openfoodfacts-python/Usage/"
   ]
  },
  {
   "cell_type": "code",
   "execution_count": 2,
   "metadata": {},
   "outputs": [],
   "source": [
    "brands = openfoodfacts.facets.get_brands()\n",
    "brands"
   ]
  },
  {
   "cell_type": "code",
   "execution_count": null,
   "metadata": {},
   "outputs": [],
   "source": [
    "categories = openfoodfacts.facets.get_categories()\n",
    "categories"
   ]
  },
  {
   "cell_type": "code",
   "execution_count": null,
   "metadata": {},
   "outputs": [],
   "source": [
    "products = openfoodfacts.products.get_by_category(categories[0].get('id'))\n",
    "len(products)\n",
    "products[:5]"
   ]
  },
  {
   "cell_type": "code",
   "execution_count": null,
   "metadata": {},
   "outputs": [],
   "source": [
    "column_mapping = {\n",
    "    \"id\": \"product.id\",\n",
    "    \"name\": \"product.generic_name_en\",\n",
    "    \"extra_labels\": \"product.labels\",\n",
    "    \"image_url\": \"product.image_url\",\n",
    "    \"brand\": \"product.brand_owner\",\n",
    "    \"categories\": \"product.categories\",\n",
    "    \"nutriscore_grade\": \"product.nutriscore_grade\",\n",
    "    \"nutriscore_score\": \"product.nutriscore_score\",\n",
    "    \"nutriscore_data\": \"product.nutriscore_data.all\",\n",
    "    \"nutriments\": \"product.nutriments.all\",\n",
    "}"
   ]
  },
  {
   "cell_type": "code",
   "execution_count": null,
   "metadata": {},
   "outputs": [],
   "source": [
    "data = dict()\n",
    "for key in column_mapping.keys():\n",
    "    data.update(get_mapping(res, key, column_mapping[key]))\n",
    "data"
   ]
  }
 ],
 "metadata": {
  "kernelspec": {
   "display_name": "Python 3.11.0 ('nutri-score')",
   "language": "python",
   "name": "python3"
  },
  "language_info": {
   "codemirror_mode": {
    "name": "ipython",
    "version": 3
   },
   "file_extension": ".py",
   "mimetype": "text/x-python",
   "name": "python",
   "nbconvert_exporter": "python",
   "pygments_lexer": "ipython3",
   "version": "3.11.0"
  },
  "orig_nbformat": 4,
  "vscode": {
   "interpreter": {
    "hash": "dc774fcdc68854c09e6012d596ed0a7a11de895d7f3322ca16ca697f95a9a8b0"
   }
  }
 },
 "nbformat": 4,
 "nbformat_minor": 2
}
