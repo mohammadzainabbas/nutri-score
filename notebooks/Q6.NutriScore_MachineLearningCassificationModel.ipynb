{
  "nbformat": 4,
  "nbformat_minor": 0,
  "metadata": {
    "colab": {
      "provenance": [],
      "authorship_tag": "ABX9TyMyU0BaQwRyLw/66EGF7uey",
      "include_colab_link": true
    },
    "kernelspec": {
      "name": "python3",
      "display_name": "Python 3"
    },
    "language_info": {
      "name": "python"
    }
  },
  "cells": [
    {
      "cell_type": "markdown",
      "metadata": {
        "id": "view-in-github",
        "colab_type": "text"
      },
      "source": [
        "<a href=\"https://colab.research.google.com/github/mohammadzainabbas/nutri-score/blob/main/notebooks/Q6.NutriScore_MachineLearningCassificationModel.ipynb\" target=\"_parent\"><img src=\"https://colab.research.google.com/assets/colab-badge.svg\" alt=\"Open In Colab\"/></a>"
      ]
    },
    {
      "cell_type": "code",
      "execution_count": 1,
      "metadata": {
        "colab": {
          "base_uri": "https://localhost:8080/"
        },
        "id": "9Kk88xG71nrs",
        "outputId": "d550d0ba-e6b5-4b8c-b444-39a2315e4c2c"
      },
      "outputs": [
        {
          "output_type": "stream",
          "name": "stdout",
          "text": [
            "Cloning into 'nutri-score'...\n",
            "remote: Enumerating objects: 1026, done.\u001b[K\n",
            "remote: Counting objects: 100% (198/198), done.\u001b[K\n",
            "remote: Compressing objects: 100% (165/165), done.\u001b[K\n",
            "remote: Total 1026 (delta 60), reused 87 (delta 33), pack-reused 828\u001b[K\n",
            "Receiving objects: 100% (1026/1026), 8.75 MiB | 6.44 MiB/s, done.\n",
            "Resolving deltas: 100% (516/516), done.\n"
          ]
        }
      ],
      "source": [
        "!git clone https://github.com/mohammadzainabbas/nutri-score.git"
      ]
    },
    {
      "cell_type": "markdown",
      "source": [
        "# import the products data"
      ],
      "metadata": {
        "id": "HWMZFsOd8Qf5"
      }
    },
    {
      "cell_type": "code",
      "source": [
        "import pandas as pd\n",
        "import numpy as np\n",
        "\n",
        "import math\n",
        "\n",
        "from sklearn.metrics import accuracy_score\n",
        "\n",
        "    \n",
        "class Read_Data():\n",
        "    def __init__(self, data_path):\n",
        "        self.data = pd.read_csv(data_path)\n",
        "        self.cols = ['id', 'name', 'category', 'en', 'su', 'fa', 'sa', 'pr', 'fi', 'fr', 'grade']\n",
        "        self.init_cols = ['id', 'name', 'categories', 'energy', 'sugars' ,'saturated-fat','salt', 'proteins',\n",
        "        'fiber','fruits-vegetables-nuts-estimate-from-ingredients_100g','grade']\n",
        "    \n",
        "    def getCols(self):\n",
        "        self.data = self.data.loc[:, self.init_cols].copy()\n",
        "        self.data.columns = self.cols\n",
        "    \n",
        "    def setNans(self):\n",
        "        self.data.dropna(inplace=True)\n",
        "    \n",
        "    def setNegValues(self):\n",
        "        self.data.en = self.data.en * -1\n",
        "        self.data.su = self.data.su * -1\n",
        "        self.data.fa = self.data.fa * -1\n",
        "        self.data.sa = self.data.sa * -1\n",
        "    \n",
        "    def getData(self):\n",
        "        self.getCols()\n",
        "        self.setNans()\n",
        "        self.setNegValues()\n",
        "        \n",
        "        return self.data\n",
        "\n",
        "    \n",
        "# pass the data directory to Read_Data class\n",
        "rd = Read_Data(\"/content/nutri-score/data/products.csv\")\n",
        "\n",
        "# call the getData() to return dataframe\n",
        "df = rd.getData()\n",
        "df"
      ],
      "metadata": {
        "colab": {
          "base_uri": "https://localhost:8080/",
          "height": 424
        },
        "id": "LFGP8BKe2C-0",
        "outputId": "1eb83372-d32b-4779-f6bd-fa40264cc15b"
      },
      "execution_count": 28,
      "outputs": [
        {
          "output_type": "execute_result",
          "data": {
            "text/plain": [
              "                 id                                             name  \\\n",
              "1     5411188134985                                   Not Milk 3,5 %   \n",
              "2     5411188135005                                 Not Milk Fettarm   \n",
              "3     8003231013322                      Gallette di mais biologiche   \n",
              "6     3256220881111           Ananas en morceaux au jus d'ananas Bio   \n",
              "7     5400141049657                                 Oignons doux 1kg   \n",
              "...             ...                                              ...   \n",
              "1994  9100000967929                                Erdbeer konfitüre   \n",
              "1995  3280220907137                          Ma petite salade Laitue   \n",
              "1996  3580282266037   Soupe Lentille corail au curry et lait de coco   \n",
              "1997  0077890122242  Italian classics marinated quartered artichokes   \n",
              "1999  0021130461912                                            Peach   \n",
              "\n",
              "                                               category      en     su  \\\n",
              "1     Pflanzliche Lebensmittel und Getränke, Getränk...  -247.0  -0.00   \n",
              "2     Plant-based foods and beverages, Beverages, Pl...  -184.0  -0.00   \n",
              "3     Cibi e bevande a base vegetale, Cibi a base ve... -1582.0  -0.50   \n",
              "6     Aliments et boissons à base de végétaux, Alime...  -271.0 -15.00   \n",
              "7     Aliments et boissons à base de végétaux,Alimen...  -159.0  -5.35   \n",
              "...                                                 ...     ...    ...   \n",
              "1994                              hr:en:Strawberry jams  -963.0 -54.00   \n",
              "1995  Aliments et boissons à base de végétaux, Alime...   -73.0  -1.40   \n",
              "1996  Aliments et boissons à base de végétaux, Alime...  -222.0  -1.00   \n",
              "1997  Plant-based foods and beverages, Plant-based f...  -374.0  -0.00   \n",
              "1999  Plant-based foods and beverages, Plant-based f... -1046.0 -50.00   \n",
              "\n",
              "            fa        sa    pr   fi          fr grade  \n",
              "1    -0.400000 -0.120000  0.70  1.0    0.000000     a  \n",
              "2    -0.200000 -0.120000  0.70  1.0    0.000000     a  \n",
              "3    -0.100000 -1.000000  6.60  3.8    0.000000     b  \n",
              "6    -0.100000 -0.010000  0.60  0.7   50.000000     b  \n",
              "7    -0.044300 -0.098280  1.25  2.8  100.000000     a  \n",
              "...        ...       ...   ...  ...         ...   ...  \n",
              "1994 -0.100000 -0.010000  0.50  1.8    0.000000     d  \n",
              "1995 -0.200000 -0.000000  1.00  1.9  100.000000     a  \n",
              "1996 -0.900000 -0.600000  2.10  0.0  108.000000     a  \n",
              "1997 -1.785714 -1.696429  0.00  0.0   14.285714     c  \n",
              "1999 -0.000000 -0.000000  0.00  0.0   16.666667     d  \n",
              "\n",
              "[1300 rows x 11 columns]"
            ],
            "text/html": [
              "\n",
              "  <div id=\"df-59536896-c92b-4b7d-bb1a-5cb44870cc64\">\n",
              "    <div class=\"colab-df-container\">\n",
              "      <div>\n",
              "<style scoped>\n",
              "    .dataframe tbody tr th:only-of-type {\n",
              "        vertical-align: middle;\n",
              "    }\n",
              "\n",
              "    .dataframe tbody tr th {\n",
              "        vertical-align: top;\n",
              "    }\n",
              "\n",
              "    .dataframe thead th {\n",
              "        text-align: right;\n",
              "    }\n",
              "</style>\n",
              "<table border=\"1\" class=\"dataframe\">\n",
              "  <thead>\n",
              "    <tr style=\"text-align: right;\">\n",
              "      <th></th>\n",
              "      <th>id</th>\n",
              "      <th>name</th>\n",
              "      <th>category</th>\n",
              "      <th>en</th>\n",
              "      <th>su</th>\n",
              "      <th>fa</th>\n",
              "      <th>sa</th>\n",
              "      <th>pr</th>\n",
              "      <th>fi</th>\n",
              "      <th>fr</th>\n",
              "      <th>grade</th>\n",
              "    </tr>\n",
              "  </thead>\n",
              "  <tbody>\n",
              "    <tr>\n",
              "      <th>1</th>\n",
              "      <td>5411188134985</td>\n",
              "      <td>Not Milk 3,5 %</td>\n",
              "      <td>Pflanzliche Lebensmittel und Getränke, Getränk...</td>\n",
              "      <td>-247.0</td>\n",
              "      <td>-0.00</td>\n",
              "      <td>-0.400000</td>\n",
              "      <td>-0.120000</td>\n",
              "      <td>0.70</td>\n",
              "      <td>1.0</td>\n",
              "      <td>0.000000</td>\n",
              "      <td>a</td>\n",
              "    </tr>\n",
              "    <tr>\n",
              "      <th>2</th>\n",
              "      <td>5411188135005</td>\n",
              "      <td>Not Milk Fettarm</td>\n",
              "      <td>Plant-based foods and beverages, Beverages, Pl...</td>\n",
              "      <td>-184.0</td>\n",
              "      <td>-0.00</td>\n",
              "      <td>-0.200000</td>\n",
              "      <td>-0.120000</td>\n",
              "      <td>0.70</td>\n",
              "      <td>1.0</td>\n",
              "      <td>0.000000</td>\n",
              "      <td>a</td>\n",
              "    </tr>\n",
              "    <tr>\n",
              "      <th>3</th>\n",
              "      <td>8003231013322</td>\n",
              "      <td>Gallette di mais biologiche</td>\n",
              "      <td>Cibi e bevande a base vegetale, Cibi a base ve...</td>\n",
              "      <td>-1582.0</td>\n",
              "      <td>-0.50</td>\n",
              "      <td>-0.100000</td>\n",
              "      <td>-1.000000</td>\n",
              "      <td>6.60</td>\n",
              "      <td>3.8</td>\n",
              "      <td>0.000000</td>\n",
              "      <td>b</td>\n",
              "    </tr>\n",
              "    <tr>\n",
              "      <th>6</th>\n",
              "      <td>3256220881111</td>\n",
              "      <td>Ananas en morceaux au jus d'ananas Bio</td>\n",
              "      <td>Aliments et boissons à base de végétaux, Alime...</td>\n",
              "      <td>-271.0</td>\n",
              "      <td>-15.00</td>\n",
              "      <td>-0.100000</td>\n",
              "      <td>-0.010000</td>\n",
              "      <td>0.60</td>\n",
              "      <td>0.7</td>\n",
              "      <td>50.000000</td>\n",
              "      <td>b</td>\n",
              "    </tr>\n",
              "    <tr>\n",
              "      <th>7</th>\n",
              "      <td>5400141049657</td>\n",
              "      <td>Oignons doux 1kg</td>\n",
              "      <td>Aliments et boissons à base de végétaux,Alimen...</td>\n",
              "      <td>-159.0</td>\n",
              "      <td>-5.35</td>\n",
              "      <td>-0.044300</td>\n",
              "      <td>-0.098280</td>\n",
              "      <td>1.25</td>\n",
              "      <td>2.8</td>\n",
              "      <td>100.000000</td>\n",
              "      <td>a</td>\n",
              "    </tr>\n",
              "    <tr>\n",
              "      <th>...</th>\n",
              "      <td>...</td>\n",
              "      <td>...</td>\n",
              "      <td>...</td>\n",
              "      <td>...</td>\n",
              "      <td>...</td>\n",
              "      <td>...</td>\n",
              "      <td>...</td>\n",
              "      <td>...</td>\n",
              "      <td>...</td>\n",
              "      <td>...</td>\n",
              "      <td>...</td>\n",
              "    </tr>\n",
              "    <tr>\n",
              "      <th>1994</th>\n",
              "      <td>9100000967929</td>\n",
              "      <td>Erdbeer konfitüre</td>\n",
              "      <td>hr:en:Strawberry jams</td>\n",
              "      <td>-963.0</td>\n",
              "      <td>-54.00</td>\n",
              "      <td>-0.100000</td>\n",
              "      <td>-0.010000</td>\n",
              "      <td>0.50</td>\n",
              "      <td>1.8</td>\n",
              "      <td>0.000000</td>\n",
              "      <td>d</td>\n",
              "    </tr>\n",
              "    <tr>\n",
              "      <th>1995</th>\n",
              "      <td>3280220907137</td>\n",
              "      <td>Ma petite salade Laitue</td>\n",
              "      <td>Aliments et boissons à base de végétaux, Alime...</td>\n",
              "      <td>-73.0</td>\n",
              "      <td>-1.40</td>\n",
              "      <td>-0.200000</td>\n",
              "      <td>-0.000000</td>\n",
              "      <td>1.00</td>\n",
              "      <td>1.9</td>\n",
              "      <td>100.000000</td>\n",
              "      <td>a</td>\n",
              "    </tr>\n",
              "    <tr>\n",
              "      <th>1996</th>\n",
              "      <td>3580282266037</td>\n",
              "      <td>Soupe Lentille corail au curry et lait de coco</td>\n",
              "      <td>Aliments et boissons à base de végétaux, Alime...</td>\n",
              "      <td>-222.0</td>\n",
              "      <td>-1.00</td>\n",
              "      <td>-0.900000</td>\n",
              "      <td>-0.600000</td>\n",
              "      <td>2.10</td>\n",
              "      <td>0.0</td>\n",
              "      <td>108.000000</td>\n",
              "      <td>a</td>\n",
              "    </tr>\n",
              "    <tr>\n",
              "      <th>1997</th>\n",
              "      <td>0077890122242</td>\n",
              "      <td>Italian classics marinated quartered artichokes</td>\n",
              "      <td>Plant-based foods and beverages, Plant-based f...</td>\n",
              "      <td>-374.0</td>\n",
              "      <td>-0.00</td>\n",
              "      <td>-1.785714</td>\n",
              "      <td>-1.696429</td>\n",
              "      <td>0.00</td>\n",
              "      <td>0.0</td>\n",
              "      <td>14.285714</td>\n",
              "      <td>c</td>\n",
              "    </tr>\n",
              "    <tr>\n",
              "      <th>1999</th>\n",
              "      <td>0021130461912</td>\n",
              "      <td>Peach</td>\n",
              "      <td>Plant-based foods and beverages, Plant-based f...</td>\n",
              "      <td>-1046.0</td>\n",
              "      <td>-50.00</td>\n",
              "      <td>-0.000000</td>\n",
              "      <td>-0.000000</td>\n",
              "      <td>0.00</td>\n",
              "      <td>0.0</td>\n",
              "      <td>16.666667</td>\n",
              "      <td>d</td>\n",
              "    </tr>\n",
              "  </tbody>\n",
              "</table>\n",
              "<p>1300 rows × 11 columns</p>\n",
              "</div>\n",
              "      <button class=\"colab-df-convert\" onclick=\"convertToInteractive('df-59536896-c92b-4b7d-bb1a-5cb44870cc64')\"\n",
              "              title=\"Convert this dataframe to an interactive table.\"\n",
              "              style=\"display:none;\">\n",
              "        \n",
              "  <svg xmlns=\"http://www.w3.org/2000/svg\" height=\"24px\"viewBox=\"0 0 24 24\"\n",
              "       width=\"24px\">\n",
              "    <path d=\"M0 0h24v24H0V0z\" fill=\"none\"/>\n",
              "    <path d=\"M18.56 5.44l.94 2.06.94-2.06 2.06-.94-2.06-.94-.94-2.06-.94 2.06-2.06.94zm-11 1L8.5 8.5l.94-2.06 2.06-.94-2.06-.94L8.5 2.5l-.94 2.06-2.06.94zm10 10l.94 2.06.94-2.06 2.06-.94-2.06-.94-.94-2.06-.94 2.06-2.06.94z\"/><path d=\"M17.41 7.96l-1.37-1.37c-.4-.4-.92-.59-1.43-.59-.52 0-1.04.2-1.43.59L10.3 9.45l-7.72 7.72c-.78.78-.78 2.05 0 2.83L4 21.41c.39.39.9.59 1.41.59.51 0 1.02-.2 1.41-.59l7.78-7.78 2.81-2.81c.8-.78.8-2.07 0-2.86zM5.41 20L4 18.59l7.72-7.72 1.47 1.35L5.41 20z\"/>\n",
              "  </svg>\n",
              "      </button>\n",
              "      \n",
              "  <style>\n",
              "    .colab-df-container {\n",
              "      display:flex;\n",
              "      flex-wrap:wrap;\n",
              "      gap: 12px;\n",
              "    }\n",
              "\n",
              "    .colab-df-convert {\n",
              "      background-color: #E8F0FE;\n",
              "      border: none;\n",
              "      border-radius: 50%;\n",
              "      cursor: pointer;\n",
              "      display: none;\n",
              "      fill: #1967D2;\n",
              "      height: 32px;\n",
              "      padding: 0 0 0 0;\n",
              "      width: 32px;\n",
              "    }\n",
              "\n",
              "    .colab-df-convert:hover {\n",
              "      background-color: #E2EBFA;\n",
              "      box-shadow: 0px 1px 2px rgba(60, 64, 67, 0.3), 0px 1px 3px 1px rgba(60, 64, 67, 0.15);\n",
              "      fill: #174EA6;\n",
              "    }\n",
              "\n",
              "    [theme=dark] .colab-df-convert {\n",
              "      background-color: #3B4455;\n",
              "      fill: #D2E3FC;\n",
              "    }\n",
              "\n",
              "    [theme=dark] .colab-df-convert:hover {\n",
              "      background-color: #434B5C;\n",
              "      box-shadow: 0px 1px 3px 1px rgba(0, 0, 0, 0.15);\n",
              "      filter: drop-shadow(0px 1px 2px rgba(0, 0, 0, 0.3));\n",
              "      fill: #FFFFFF;\n",
              "    }\n",
              "  </style>\n",
              "\n",
              "      <script>\n",
              "        const buttonEl =\n",
              "          document.querySelector('#df-59536896-c92b-4b7d-bb1a-5cb44870cc64 button.colab-df-convert');\n",
              "        buttonEl.style.display =\n",
              "          google.colab.kernel.accessAllowed ? 'block' : 'none';\n",
              "\n",
              "        async function convertToInteractive(key) {\n",
              "          const element = document.querySelector('#df-59536896-c92b-4b7d-bb1a-5cb44870cc64');\n",
              "          const dataTable =\n",
              "            await google.colab.kernel.invokeFunction('convertToInteractive',\n",
              "                                                     [key], {});\n",
              "          if (!dataTable) return;\n",
              "\n",
              "          const docLinkHtml = 'Like what you see? Visit the ' +\n",
              "            '<a target=\"_blank\" href=https://colab.research.google.com/notebooks/data_table.ipynb>data table notebook</a>'\n",
              "            + ' to learn more about interactive tables.';\n",
              "          element.innerHTML = '';\n",
              "          dataTable['output_type'] = 'display_data';\n",
              "          await google.colab.output.renderOutput(dataTable, element);\n",
              "          const docLink = document.createElement('div');\n",
              "          docLink.innerHTML = docLinkHtml;\n",
              "          element.appendChild(docLink);\n",
              "        }\n",
              "      </script>\n",
              "    </div>\n",
              "  </div>\n",
              "  "
            ]
          },
          "metadata": {},
          "execution_count": 28
        }
      ]
    },
    {
      "cell_type": "code",
      "source": [
        "from sklearn import preprocessing\n",
        "le = preprocessing.LabelEncoder()\n",
        "le.fit([\"a\", \"b\", \"c\", \"d\", \"e\"])\n",
        "y_train=le.transform(df[['grade']])\n",
        "#y_train=df.iloc[:,10]\n",
        "X_train=df.iloc[:,3:10]"
      ],
      "metadata": {
        "id": "8TTRYiLb6_4P"
      },
      "execution_count": 39,
      "outputs": []
    },
    {
      "cell_type": "markdown",
      "source": [
        "# decision tree\n",
        "\n",
        "The accuracy_score returns the fraction of correctly classified samples (float)."
      ],
      "metadata": {
        "id": "cnuP_rA98F7_"
      }
    },
    {
      "cell_type": "code",
      "source": [
        "from sklearn.tree import DecisionTreeClassifier\n",
        "from sklearn.metrics import accuracy_score\n",
        "clf_en = DecisionTreeClassifier(criterion='entropy', max_depth=7, random_state=0)\n",
        "clf_en.fit(X_train, y_train)\n",
        "y_pred_en = clf_en.predict(X_train)\n",
        "print(accuracy_score(y_train, y_pred_en))"
      ],
      "metadata": {
        "colab": {
          "base_uri": "https://localhost:8080/"
        },
        "id": "5SkSoKe37s5X",
        "outputId": "5cf361c3-240f-44ea-872c-8363d2455477"
      },
      "execution_count": 40,
      "outputs": [
        {
          "output_type": "stream",
          "name": "stdout",
          "text": [
            "0.8969230769230769\n"
          ]
        }
      ]
    },
    {
      "cell_type": "markdown",
      "source": [
        "# random forest\n",
        "\n",
        "The accuracy_score returns the fraction of correctly classified samples (float)."
      ],
      "metadata": {
        "id": "S9Xjb7D49BjI"
      }
    },
    {
      "cell_type": "code",
      "source": [
        "from sklearn.ensemble import RandomForestClassifier\n",
        "clf = RandomForestClassifier(max_depth=5, random_state=0)\n",
        "clf.fit(X_train, y_train)\n",
        "y_pred_en=clf.predict(X_train)\n",
        "print(accuracy_score(y_train, y_pred_en))"
      ],
      "metadata": {
        "colab": {
          "base_uri": "https://localhost:8080/"
        },
        "id": "3dOuB8q_8jap",
        "outputId": "d6bd0e75-2a54-4e6f-f3d6-cfc00b84493e"
      },
      "execution_count": 43,
      "outputs": [
        {
          "output_type": "stream",
          "name": "stdout",
          "text": [
            "0.8561538461538462\n"
          ]
        }
      ]
    },
    {
      "cell_type": "markdown",
      "source": [
        "# logistic regression\n",
        "\n",
        "The accuracy_score returns the fraction of correctly classified samples (float)."
      ],
      "metadata": {
        "id": "osRMyuk_9ctc"
      }
    },
    {
      "cell_type": "code",
      "source": [
        "from sklearn.linear_model import LogisticRegression\n",
        "lr=LogisticRegression()\n",
        "lr.fit(X_train, y_train)\n",
        "y_pred_en=lr.predict(X_train)\n",
        "print(accuracy_score(y_train, y_pred_en))"
      ],
      "metadata": {
        "colab": {
          "base_uri": "https://localhost:8080/"
        },
        "id": "7XwZBEBw9e-f",
        "outputId": "d6ba2d0b-eef7-4f5a-97fb-39ecd7aec51a"
      },
      "execution_count": 45,
      "outputs": [
        {
          "output_type": "stream",
          "name": "stdout",
          "text": [
            "0.5976923076923077\n"
          ]
        },
        {
          "output_type": "stream",
          "name": "stderr",
          "text": [
            "/usr/local/lib/python3.7/dist-packages/sklearn/linear_model/_logistic.py:818: ConvergenceWarning: lbfgs failed to converge (status=1):\n",
            "STOP: TOTAL NO. of ITERATIONS REACHED LIMIT.\n",
            "\n",
            "Increase the number of iterations (max_iter) or scale the data as shown in:\n",
            "    https://scikit-learn.org/stable/modules/preprocessing.html\n",
            "Please also refer to the documentation for alternative solver options:\n",
            "    https://scikit-learn.org/stable/modules/linear_model.html#logistic-regression\n",
            "  extra_warning_msg=_LOGISTIC_SOLVER_CONVERGENCE_MSG,\n"
          ]
        }
      ]
    },
    {
      "cell_type": "markdown",
      "source": [
        "# Naive Bayes\n",
        "\n",
        "Naive Bayes algorithm based on Bayes’ theorem with the assumption of independence between every pair of features. "
      ],
      "metadata": {
        "id": "JO50Hjh0-GAt"
      }
    },
    {
      "cell_type": "code",
      "source": [
        "from sklearn.naive_bayes import GaussianNB\n",
        "nb=GaussianNB()\n",
        "nb.fit(X_train, y_train)\n",
        "y_pred_en=nb.predict(X_train)\n",
        "print(accuracy_score(y_train, y_pred_en))"
      ],
      "metadata": {
        "colab": {
          "base_uri": "https://localhost:8080/"
        },
        "id": "NXmJ2E6h94Tv",
        "outputId": "b0392f5a-e69b-448f-e9b0-312e03303f05"
      },
      "execution_count": 47,
      "outputs": [
        {
          "output_type": "stream",
          "name": "stdout",
          "text": [
            "0.6561538461538462\n"
          ]
        }
      ]
    },
    {
      "cell_type": "markdown",
      "source": [
        "# K-Nearest Neighbours"
      ],
      "metadata": {
        "id": "xB2JuOpW-PCB"
      }
    },
    {
      "cell_type": "code",
      "source": [
        "from sklearn.neighbors import KNeighborsClassifier\n",
        "knn=KNeighborsClassifier(n_neighbors=15)\n",
        "knn.fit(X_train, y_train)\n",
        "y_pred_en=knn.predict(X_train)\n",
        "print(accuracy_score(y_train, y_pred_en))"
      ],
      "metadata": {
        "colab": {
          "base_uri": "https://localhost:8080/"
        },
        "id": "m5pEzgkT-UN8",
        "outputId": "c87d9ad9-6663-4f8e-b092-d8598245207d"
      },
      "execution_count": 53,
      "outputs": [
        {
          "output_type": "stream",
          "name": "stdout",
          "text": [
            "0.6269230769230769\n"
          ]
        }
      ]
    }
  ]
}